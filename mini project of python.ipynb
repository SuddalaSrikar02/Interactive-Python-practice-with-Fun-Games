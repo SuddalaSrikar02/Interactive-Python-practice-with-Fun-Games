{
 "cells": [
  {
   "cell_type": "markdown",
   "id": "6b5b4502-70ae-4094-a3dc-21b3ecca7073",
   "metadata": {},
   "source": [
    "# Rock-Paper-Scissors Game with Emoji Feedback"
   ]
  },
  {
   "cell_type": "code",
   "execution_count": 4,
   "id": "0726c649-9e69-4ef4-af93-9a462dc50ed5",
   "metadata": {},
   "outputs": [
    {
     "name": "stdin",
     "output_type": "stream",
     "text": [
      "Enter your choice:  scissors\n"
     ]
    },
    {
     "name": "stdout",
     "output_type": "stream",
     "text": [
      "scissors ✂️\n",
      "scissors ✂️\n",
      "its tie.\n"
     ]
    }
   ],
   "source": [
    "import random\n",
    "choices = [\"rock\",\"paper\",\"scissors\"]\n",
    "emojis =  [\"\\U0001FAA8\", \"\\U0001F4C4\", \"\\u2702\\ufe0f\"]\n",
    "user_input = input(\"Enter your choice: \")\n",
    "if user_input not in choices:\n",
    "    print(\"Invalid\")\n",
    "else:\n",
    "    computer_choice = random.choice(choices)\n",
    "    user_index = choices.index(user_input)\n",
    "    computer_index = choices.index(computer_choice)\n",
    "    user_emoji = emojis[user_index]\n",
    "    computer_emoji = emojis[computer_index]\n",
    "    print(f\"{user_input} {user_emoji}\")\n",
    "    print(f\"{computer_choice} {computer_emoji}\")\n",
    "    if user_input == \"rock\" and computer_choice == \"scissors\" or \\\n",
    "       user_input == \"paper\" and computer_choice == \"rock\" or \\\n",
    "       user_input == \"scissors\" and computer_choice == \"paper\":\n",
    "           print(\"You win.\")\n",
    "    elif user_input == computer_choice:\n",
    "        print(\"its tie.\")\n",
    "    else:\n",
    "        print(\"compter win.\")\n"
   ]
  },
  {
   "cell_type": "markdown",
   "id": "34120b3f-7bac-4f0f-98b6-4df50dca7355",
   "metadata": {},
   "source": [
    "# ATM Withdrawal Simulation with Validation"
   ]
  },
  {
   "cell_type": "code",
   "execution_count": 5,
   "id": "bac3d96c-f89c-423b-b6f9-b0c9d8530f3d",
   "metadata": {},
   "outputs": [
    {
     "name": "stdin",
     "output_type": "stream",
     "text": [
      "Enter your amount:  40000\n"
     ]
    },
    {
     "name": "stdout",
     "output_type": "stream",
     "text": [
      "Error: Insufficient balance\n"
     ]
    }
   ],
   "source": [
    "balance = 5000\n",
    "withdraw_amount = int(input(\"Enter your amount: \"))\n",
    "x = balance - withdraw_amount\n",
    "if withdraw_amount <= balance:\n",
    "    x = balance - withdraw_amount\n",
    "    if withdraw_amount % 100 == 0:\n",
    "        print(f\"Your withdraw is successful!,Remaining {x} rupees\")\n",
    "    else:\n",
    "        print(\"Error:The amount should must be multiple of 100\")\n",
    "else:\n",
    "    print(\"Error: Insufficient balance\")"
   ]
  },
  {
   "cell_type": "markdown",
   "id": "6615f638-b732-4e26-a67b-4425fb717c23",
   "metadata": {},
   "source": [
    "# Number Guessing Game with Limited Attempts"
   ]
  },
  {
   "cell_type": "code",
   "execution_count": 6,
   "id": "6304d370-9d7b-484e-b58a-8501d95f5949",
   "metadata": {},
   "outputs": [
    {
     "name": "stdin",
     "output_type": "stream",
     "text": [
      "Enter a number:  5\n"
     ]
    },
    {
     "name": "stdout",
     "output_type": "stream",
     "text": [
      "Attempt 1,it is too low\n"
     ]
    },
    {
     "name": "stdin",
     "output_type": "stream",
     "text": [
      "Enter a number:  4\n"
     ]
    },
    {
     "name": "stdout",
     "output_type": "stream",
     "text": [
      "Attempt 2,it is too low\n"
     ]
    },
    {
     "name": "stdin",
     "output_type": "stream",
     "text": [
      "Enter a number:  5\n"
     ]
    },
    {
     "name": "stdout",
     "output_type": "stream",
     "text": [
      "Attempt 3,it is too low\n"
     ]
    },
    {
     "name": "stdin",
     "output_type": "stream",
     "text": [
      "Enter a number:  6\n"
     ]
    },
    {
     "name": "stdout",
     "output_type": "stream",
     "text": [
      "Attempt 4,it is too low\n"
     ]
    },
    {
     "name": "stdin",
     "output_type": "stream",
     "text": [
      "Enter a number:  6\n"
     ]
    },
    {
     "name": "stdout",
     "output_type": "stream",
     "text": [
      "Attempt 5,it is too low\n",
      "Game over 97\n"
     ]
    }
   ],
   "source": [
    "import random\n",
    "secret_number = random.randint(1,100)\n",
    "max_attempts = 5\n",
    "for attempts in range(1,max_attempts+1):\n",
    "    guess = int(input(\"Enter a number: \"))\n",
    "    if guess >= secret_number:\n",
    "        print(f\"Attempt {attempts},it is too high.\")\n",
    "    elif guess <= secret_number:\n",
    "        print(f\"Attempt {attempts},it is too low\")\n",
    "    else:\n",
    "        print(\"it is correct!\")\n",
    "        break\n",
    "print(\"Game over\",secret_number)\n"
   ]
  },
  {
   "cell_type": "markdown",
   "id": "8eb08c4d-f871-41d8-82f5-0d1f95fdaf2a",
   "metadata": {},
   "source": [
    "# Speed Limit Checker with Fine Notification"
   ]
  },
  {
   "cell_type": "code",
   "execution_count": 8,
   "id": "25cabf40-18e3-4a0f-9c09-1c5aa75434a6",
   "metadata": {},
   "outputs": [
    {
     "name": "stdin",
     "output_type": "stream",
     "text": [
      "Enter your speed:  50\n"
     ]
    },
    {
     "name": "stdout",
     "output_type": "stream",
     "text": [
      "your with in speed so No Fine\n"
     ]
    }
   ],
   "source": [
    "speed_limit = 60\n",
    "user_speed = int(input(\"Enter your speed: \"))\n",
    "if user_speed >= speed_limit:\n",
    "    print(\"your speed is more than speed limit: 2000 Fine\")\n",
    "elif user_speed < speed_limit:\n",
    "    print(\"your with in speed so No Fine\")\n",
    "else:\n",
    "    print(\"invalid\")"
   ]
  },
  {
   "cell_type": "markdown",
   "id": "a4996bba-06fe-452a-be95-69bb61d98d8b",
   "metadata": {},
   "source": [
    "# Loan Eligibility Checker Based on Debt, Credit Score, and Income"
   ]
  },
  {
   "cell_type": "code",
   "execution_count": 10,
   "id": "14042c65-0578-45bd-96f3-e5eb91e0a324",
   "metadata": {},
   "outputs": [
    {
     "name": "stdin",
     "output_type": "stream",
     "text": [
      "Are you debt in status?(yes/no):  no\n",
      "Enter your credit score:  555555\n",
      "Enter your income:  1000000\n"
     ]
    },
    {
     "name": "stdout",
     "output_type": "stream",
     "text": [
      "Your loan is Approved.\n"
     ]
    }
   ],
   "source": [
    "debt_status = input(\"Are you debt in status?(yes/no): \")\n",
    "if debt_status == \"yes\":\n",
    "    print(\"Loan rejected\")\n",
    "else:\n",
    "    credit_score = int(input(\"Enter your credit score: \"))\n",
    "    income = int(input(\"Enter your income: \"))\n",
    "    if credit_score >= 750 and income >= 50000:\n",
    "        print(\"Your loan is Approved.\")\n",
    "    elif credit_score >= 650 and income >= 35000:\n",
    "        print(\"Your Loan is in waiting state.\")\n",
    "        print(\"But u have garuntee.\")\n",
    "    else:\n",
    "        print(\"Your loan is rejected.\")\n",
    "        print(\"you have no credit score and income.\")\n",
    "    "
   ]
  },
  {
   "cell_type": "code",
   "execution_count": null,
   "id": "64c19585-97d8-4da8-ab3f-623839c5365c",
   "metadata": {},
   "outputs": [],
   "source": []
  },
  {
   "cell_type": "code",
   "execution_count": null,
   "id": "28009f27-6d51-4a21-a51c-9a9b1a035390",
   "metadata": {},
   "outputs": [],
   "source": []
  }
 ],
 "metadata": {
  "kernelspec": {
   "display_name": "Python [conda env:base] *",
   "language": "python",
   "name": "conda-base-py"
  },
  "language_info": {
   "codemirror_mode": {
    "name": "ipython",
    "version": 3
   },
   "file_extension": ".py",
   "mimetype": "text/x-python",
   "name": "python",
   "nbconvert_exporter": "python",
   "pygments_lexer": "ipython3",
   "version": "3.12.7"
  }
 },
 "nbformat": 4,
 "nbformat_minor": 5
}
